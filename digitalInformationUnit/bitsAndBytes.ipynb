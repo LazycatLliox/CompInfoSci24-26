{
 "cells": [
  {
   "cell_type": "markdown",
   "id": "20f3ea44",
   "metadata": {},
   "source": [
    "# Bits and Bytes"
   ]
  },
  {
   "cell_type": "markdown",
   "id": "5c1fbd4b",
   "metadata": {},
   "source": [
    "Bit - Is the smallest unit of data. A bit is represented by a 1 or a 0 \n",
    "\n",
    "* Differentiate bettween 10000 \"Mega bits\" or \"Mega Bytes\" \n",
    "\n",
    "Byte - this is a string of 8 1's or 0's\n"
   ]
  },
  {
   "cell_type": "markdown",
   "id": "87ea7a81",
   "metadata": {},
   "source": [
    "A --> 01000001\n",
    "\n",
    "Atreyu --> 01000001 01110100 01110010 01100101 01111001 01110101\n",
    "\n",
    "255 --> 00110010 00110101 00110101\n",
    "\n",
    "### Representing Color \n",
    "\n",
    "- Hexidecimal --> #33 99 ee\n",
    "- Rgb --> (255, 145, 98) --> 00110010 00110101 00110101 00101100 00100000 00110001 00110100 00110101 00101100 00100000 00111001 00111000"
   ]
  },
  {
   "cell_type": "markdown",
   "id": "5a14ba13",
   "metadata": {},
   "source": [
    "### Series of bits\n",
    "\n",
    "2 bits --> 4 diffrent combinations: 00, 10, 01, 11\n",
    "\n",
    "3 bits --> 000, 001, 010, 100, 101, 110, 011, 111 \n"
   ]
  },
  {
   "cell_type": "markdown",
   "id": "3512cfd4",
   "metadata": {},
   "source": [
    "### Bytes - is a combination of 8 bits"
   ]
  },
  {
   "cell_type": "markdown",
   "id": "48dd1ba2",
   "metadata": {},
   "source": [
    "0000 0101"
   ]
  },
  {
   "cell_type": "markdown",
   "id": "142b3ff4",
   "metadata": {},
   "source": []
  }
 ],
 "metadata": {
  "language_info": {
   "name": "python"
  }
 },
 "nbformat": 4,
 "nbformat_minor": 5
}
